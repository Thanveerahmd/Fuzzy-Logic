{
  "nbformat": 4,
  "nbformat_minor": 0,
  "metadata": {
    "colab": {
      "name": "Fuzzy Logic Tutorial.ipynb",
      "provenance": [],
      "collapsed_sections": [
        "oVly-sr4xST4",
        "NmfwocVTdYUp"
      ]
    },
    "kernelspec": {
      "name": "python3",
      "display_name": "Python 3"
    },
    "language_info": {
      "name": "python"
    }
  },
  "cells": [
    {
      "cell_type": "markdown",
      "source": [
        ""
      ],
      "metadata": {
        "id": "tkDE_qWnOu7a"
      }
    },
    {
      "cell_type": "code",
      "source": [
        "pip install scikit-fuzzy"
      ],
      "metadata": {
        "colab": {
          "base_uri": "https://localhost:8080/"
        },
        "id": "SOrqBGKzr6jS",
        "outputId": "c2975b57-193e-4cb8-f249-3ef4f08489d1"
      },
      "execution_count": null,
      "outputs": [
        {
          "output_type": "stream",
          "name": "stdout",
          "text": [
            "Collecting scikit-fuzzy\n",
            "  Downloading scikit-fuzzy-0.4.2.tar.gz (993 kB)\n",
            "\u001b[?25l\r\u001b[K     |▎                               | 10 kB 21.0 MB/s eta 0:00:01\r\u001b[K     |▋                               | 20 kB 13.8 MB/s eta 0:00:01\r\u001b[K     |█                               | 30 kB 10.2 MB/s eta 0:00:01\r\u001b[K     |█▎                              | 40 kB 9.0 MB/s eta 0:00:01\r\u001b[K     |█▋                              | 51 kB 7.8 MB/s eta 0:00:01\r\u001b[K     |██                              | 61 kB 7.3 MB/s eta 0:00:01\r\u001b[K     |██▎                             | 71 kB 7.5 MB/s eta 0:00:01\r\u001b[K     |██▋                             | 81 kB 8.3 MB/s eta 0:00:01\r\u001b[K     |███                             | 92 kB 4.7 MB/s eta 0:00:01\r\u001b[K     |███▎                            | 102 kB 5.1 MB/s eta 0:00:01\r\u001b[K     |███▋                            | 112 kB 5.1 MB/s eta 0:00:01\r\u001b[K     |████                            | 122 kB 5.1 MB/s eta 0:00:01\r\u001b[K     |████▎                           | 133 kB 5.1 MB/s eta 0:00:01\r\u001b[K     |████▋                           | 143 kB 5.1 MB/s eta 0:00:01\r\u001b[K     |█████                           | 153 kB 5.1 MB/s eta 0:00:01\r\u001b[K     |█████▎                          | 163 kB 5.1 MB/s eta 0:00:01\r\u001b[K     |█████▋                          | 174 kB 5.1 MB/s eta 0:00:01\r\u001b[K     |██████                          | 184 kB 5.1 MB/s eta 0:00:01\r\u001b[K     |██████▎                         | 194 kB 5.1 MB/s eta 0:00:01\r\u001b[K     |██████▋                         | 204 kB 5.1 MB/s eta 0:00:01\r\u001b[K     |███████                         | 215 kB 5.1 MB/s eta 0:00:01\r\u001b[K     |███████▎                        | 225 kB 5.1 MB/s eta 0:00:01\r\u001b[K     |███████▋                        | 235 kB 5.1 MB/s eta 0:00:01\r\u001b[K     |████████                        | 245 kB 5.1 MB/s eta 0:00:01\r\u001b[K     |████████▎                       | 256 kB 5.1 MB/s eta 0:00:01\r\u001b[K     |████████▋                       | 266 kB 5.1 MB/s eta 0:00:01\r\u001b[K     |█████████                       | 276 kB 5.1 MB/s eta 0:00:01\r\u001b[K     |█████████▎                      | 286 kB 5.1 MB/s eta 0:00:01\r\u001b[K     |█████████▋                      | 296 kB 5.1 MB/s eta 0:00:01\r\u001b[K     |██████████                      | 307 kB 5.1 MB/s eta 0:00:01\r\u001b[K     |██████████▏                     | 317 kB 5.1 MB/s eta 0:00:01\r\u001b[K     |██████████▌                     | 327 kB 5.1 MB/s eta 0:00:01\r\u001b[K     |██████████▉                     | 337 kB 5.1 MB/s eta 0:00:01\r\u001b[K     |███████████▏                    | 348 kB 5.1 MB/s eta 0:00:01\r\u001b[K     |███████████▌                    | 358 kB 5.1 MB/s eta 0:00:01\r\u001b[K     |███████████▉                    | 368 kB 5.1 MB/s eta 0:00:01\r\u001b[K     |████████████▏                   | 378 kB 5.1 MB/s eta 0:00:01\r\u001b[K     |████████████▌                   | 389 kB 5.1 MB/s eta 0:00:01\r\u001b[K     |████████████▉                   | 399 kB 5.1 MB/s eta 0:00:01\r\u001b[K     |█████████████▏                  | 409 kB 5.1 MB/s eta 0:00:01\r\u001b[K     |█████████████▌                  | 419 kB 5.1 MB/s eta 0:00:01\r\u001b[K     |█████████████▉                  | 430 kB 5.1 MB/s eta 0:00:01\r\u001b[K     |██████████████▏                 | 440 kB 5.1 MB/s eta 0:00:01\r\u001b[K     |██████████████▌                 | 450 kB 5.1 MB/s eta 0:00:01\r\u001b[K     |██████████████▉                 | 460 kB 5.1 MB/s eta 0:00:01\r\u001b[K     |███████████████▏                | 471 kB 5.1 MB/s eta 0:00:01\r\u001b[K     |███████████████▌                | 481 kB 5.1 MB/s eta 0:00:01\r\u001b[K     |███████████████▉                | 491 kB 5.1 MB/s eta 0:00:01\r\u001b[K     |████████████████▏               | 501 kB 5.1 MB/s eta 0:00:01\r\u001b[K     |████████████████▌               | 512 kB 5.1 MB/s eta 0:00:01\r\u001b[K     |████████████████▉               | 522 kB 5.1 MB/s eta 0:00:01\r\u001b[K     |█████████████████▏              | 532 kB 5.1 MB/s eta 0:00:01\r\u001b[K     |█████████████████▌              | 542 kB 5.1 MB/s eta 0:00:01\r\u001b[K     |█████████████████▉              | 552 kB 5.1 MB/s eta 0:00:01\r\u001b[K     |██████████████████▏             | 563 kB 5.1 MB/s eta 0:00:01\r\u001b[K     |██████████████████▌             | 573 kB 5.1 MB/s eta 0:00:01\r\u001b[K     |██████████████████▉             | 583 kB 5.1 MB/s eta 0:00:01\r\u001b[K     |███████████████████▏            | 593 kB 5.1 MB/s eta 0:00:01\r\u001b[K     |███████████████████▌            | 604 kB 5.1 MB/s eta 0:00:01\r\u001b[K     |███████████████████▉            | 614 kB 5.1 MB/s eta 0:00:01\r\u001b[K     |████████████████████            | 624 kB 5.1 MB/s eta 0:00:01\r\u001b[K     |████████████████████▍           | 634 kB 5.1 MB/s eta 0:00:01\r\u001b[K     |████████████████████▊           | 645 kB 5.1 MB/s eta 0:00:01\r\u001b[K     |█████████████████████           | 655 kB 5.1 MB/s eta 0:00:01\r\u001b[K     |█████████████████████▍          | 665 kB 5.1 MB/s eta 0:00:01\r\u001b[K     |█████████████████████▊          | 675 kB 5.1 MB/s eta 0:00:01\r\u001b[K     |██████████████████████          | 686 kB 5.1 MB/s eta 0:00:01\r\u001b[K     |██████████████████████▍         | 696 kB 5.1 MB/s eta 0:00:01\r\u001b[K     |██████████████████████▊         | 706 kB 5.1 MB/s eta 0:00:01\r\u001b[K     |███████████████████████         | 716 kB 5.1 MB/s eta 0:00:01\r\u001b[K     |███████████████████████▍        | 727 kB 5.1 MB/s eta 0:00:01\r\u001b[K     |███████████████████████▊        | 737 kB 5.1 MB/s eta 0:00:01\r\u001b[K     |████████████████████████        | 747 kB 5.1 MB/s eta 0:00:01\r\u001b[K     |████████████████████████▍       | 757 kB 5.1 MB/s eta 0:00:01\r\u001b[K     |████████████████████████▊       | 768 kB 5.1 MB/s eta 0:00:01\r\u001b[K     |█████████████████████████       | 778 kB 5.1 MB/s eta 0:00:01\r\u001b[K     |█████████████████████████▍      | 788 kB 5.1 MB/s eta 0:00:01\r\u001b[K     |█████████████████████████▊      | 798 kB 5.1 MB/s eta 0:00:01\r\u001b[K     |██████████████████████████      | 808 kB 5.1 MB/s eta 0:00:01\r\u001b[K     |██████████████████████████▍     | 819 kB 5.1 MB/s eta 0:00:01\r\u001b[K     |██████████████████████████▊     | 829 kB 5.1 MB/s eta 0:00:01\r\u001b[K     |███████████████████████████     | 839 kB 5.1 MB/s eta 0:00:01\r\u001b[K     |███████████████████████████▍    | 849 kB 5.1 MB/s eta 0:00:01\r\u001b[K     |███████████████████████████▊    | 860 kB 5.1 MB/s eta 0:00:01\r\u001b[K     |████████████████████████████    | 870 kB 5.1 MB/s eta 0:00:01\r\u001b[K     |████████████████████████████▍   | 880 kB 5.1 MB/s eta 0:00:01\r\u001b[K     |████████████████████████████▊   | 890 kB 5.1 MB/s eta 0:00:01\r\u001b[K     |█████████████████████████████   | 901 kB 5.1 MB/s eta 0:00:01\r\u001b[K     |█████████████████████████████▍  | 911 kB 5.1 MB/s eta 0:00:01\r\u001b[K     |█████████████████████████████▊  | 921 kB 5.1 MB/s eta 0:00:01\r\u001b[K     |██████████████████████████████  | 931 kB 5.1 MB/s eta 0:00:01\r\u001b[K     |██████████████████████████████▎ | 942 kB 5.1 MB/s eta 0:00:01\r\u001b[K     |██████████████████████████████▋ | 952 kB 5.1 MB/s eta 0:00:01\r\u001b[K     |███████████████████████████████ | 962 kB 5.1 MB/s eta 0:00:01\r\u001b[K     |███████████████████████████████▎| 972 kB 5.1 MB/s eta 0:00:01\r\u001b[K     |███████████████████████████████▋| 983 kB 5.1 MB/s eta 0:00:01\r\u001b[K     |████████████████████████████████| 993 kB 5.1 MB/s eta 0:00:01\r\u001b[K     |████████████████████████████████| 993 kB 5.1 MB/s \n",
            "\u001b[?25hRequirement already satisfied: numpy>=1.6.0 in /usr/local/lib/python3.7/dist-packages (from scikit-fuzzy) (1.19.5)\n",
            "Requirement already satisfied: scipy>=0.9.0 in /usr/local/lib/python3.7/dist-packages (from scikit-fuzzy) (1.4.1)\n",
            "Requirement already satisfied: networkx>=1.9.0 in /usr/local/lib/python3.7/dist-packages (from scikit-fuzzy) (2.6.3)\n",
            "Building wheels for collected packages: scikit-fuzzy\n",
            "  Building wheel for scikit-fuzzy (setup.py) ... \u001b[?25l\u001b[?25hdone\n",
            "  Created wheel for scikit-fuzzy: filename=scikit_fuzzy-0.4.2-py3-none-any.whl size=894089 sha256=c89e2eceb298558b9c76a7ba8da822cd544d97b89043761a847c0dd8d77d27c1\n",
            "  Stored in directory: /root/.cache/pip/wheels/d5/74/fc/38588a3d2e3f34f74588e6daa3aa5b0a322bd6f9420a707131\n",
            "Successfully built scikit-fuzzy\n",
            "Installing collected packages: scikit-fuzzy\n",
            "Successfully installed scikit-fuzzy-0.4.2\n"
          ]
        }
      ]
    },
    {
      "cell_type": "code",
      "execution_count": null,
      "metadata": {
        "id": "0XcUBaw7OmGn"
      },
      "outputs": [],
      "source": [
        "import numpy as np\n",
        "import matplotlib.pyplot as plt\n",
        "import skfuzzy as fuzz"
      ]
    },
    {
      "cell_type": "code",
      "source": [
        "x = np.arange(11)\n",
        "x"
      ],
      "metadata": {
        "colab": {
          "base_uri": "https://localhost:8080/"
        },
        "id": "nMv45VR8vwjc",
        "outputId": "42274648-c499-4dde-d618-d69f76989df1"
      },
      "execution_count": null,
      "outputs": [
        {
          "output_type": "execute_result",
          "data": {
            "text/plain": [
              "array([ 0,  1,  2,  3,  4,  5,  6,  7,  8,  9, 10])"
            ]
          },
          "metadata": {},
          "execution_count": 3
        }
      ]
    },
    {
      "cell_type": "markdown",
      "source": [
        "#Fuzzy Membership Functions"
      ],
      "metadata": {
        "id": "Qx7Dd1JqwZB3"
      }
    },
    {
      "cell_type": "markdown",
      "source": [
        "## Trangular Fuzzy Membership Function"
      ],
      "metadata": {
        "id": "oVly-sr4xST4"
      }
    },
    {
      "cell_type": "code",
      "source": [
        "mfx = fuzz.trimf(x, [0, 5, 10])\n",
        "mfx"
      ],
      "metadata": {
        "colab": {
          "base_uri": "https://localhost:8080/"
        },
        "id": "9w2ubQHyxjdP",
        "outputId": "ba108816-0f35-4306-c7a2-5d620416321a"
      },
      "execution_count": null,
      "outputs": [
        {
          "output_type": "execute_result",
          "data": {
            "text/plain": [
              "array([0. , 0.2, 0.4, 0.6, 0.8, 1. , 0.8, 0.6, 0.4, 0.2, 0. ])"
            ]
          },
          "metadata": {},
          "execution_count": 11
        }
      ]
    },
    {
      "cell_type": "code",
      "source": [
        "plt.plot(x, mfx, color='red')\n",
        "plt.ylabel('Membership Degree')\n",
        "plt.xlabel(\"X\")\n",
        "plt.grid(True)\n",
        "plt.show()"
      ],
      "metadata": {
        "colab": {
          "base_uri": "https://localhost:8080/",
          "height": 279
        },
        "id": "yDMuTgHuxnK_",
        "outputId": "9dcf234a-2866-46e7-84dc-8df3d27451fc"
      },
      "execution_count": null,
      "outputs": [
        {
          "output_type": "display_data",
          "data": {
            "image/png": "[encoded data removed]",
            "text/plain": [
              "<Figure size 432x288 with 1 Axes>"
            ]
          },
          "metadata": {
            "needs_background": "light"
          }
        }
      ]
    },
    {
      "cell_type": "markdown",
      "source": [
        "## Trapezoidal Fuzzy Membership Function"
      ],
      "metadata": {
        "id": "ZtUE7YOrwdR_"
      }
    },
    {
      "cell_type": "code",
      "source": [
        "mfx = fuzz.trapmf(x, [0, 2, 8, 10])\n",
        "mfx"
      ],
      "metadata": {
        "colab": {
          "base_uri": "https://localhost:8080/"
        },
        "id": "Jw4l2ctiwRFz",
        "outputId": "35b5bf9f-e6d4-4ad1-c6c8-03caded3ac0d"
      },
      "execution_count": null,
      "outputs": [
        {
          "output_type": "execute_result",
          "data": {
            "text/plain": [
              "array([0. , 0.5, 1. , 1. , 1. , 1. , 1. , 1. , 1. , 0.5, 0. ])"
            ]
          },
          "metadata": {},
          "execution_count": 7
        }
      ]
    },
    {
      "cell_type": "code",
      "source": [
        "plt.plot(x, mfx, color='red')\n",
        "plt.ylabel('Membership Degree')\n",
        "plt.xlabel(\"X\")\n",
        "plt.grid(True)\n",
        "plt.show()"
      ],
      "metadata": {
        "colab": {
          "base_uri": "https://localhost:8080/",
          "height": 279
        },
        "id": "wEQLFSzhxNkP",
        "outputId": "3bea9b6e-8f4e-4e5b-9871-c02af95012b1"
      },
      "execution_count": null,
      "outputs": [
        {
          "output_type": "display_data",
          "data": {
            "image/png": "[encoded data removed]",
            "text/plain": [
              "<Figure size 432x288 with 1 Axes>"
            ]
          },
          "metadata": {
            "needs_background": "light"
          }
        }
      ]
    },
    {
      "cell_type": "markdown",
      "source": [
        "## Sigmoid Fuzzy Membership Function"
      ],
      "metadata": {
        "id": "b2xWqJLayHWI"
      }
    },
    {
      "cell_type": "code",
      "source": [
        "mfx = fuzz.sigmf(x, 5, .9)\n",
        "mfx"
      ],
      "metadata": {
        "colab": {
          "base_uri": "https://localhost:8080/"
        },
        "id": "PneQMza-yIij",
        "outputId": "ee3728ae-f308-4ccc-de7d-9078085a0127"
      },
      "execution_count": null,
      "outputs": [
        {
          "output_type": "execute_result",
          "data": {
            "text/plain": [
              "array([0.01098694, 0.02659699, 0.06297336, 0.14185106, 0.2890505 ,\n",
              "       0.5       , 0.7109495 , 0.85814894, 0.93702664, 0.97340301,\n",
              "       0.98901306])"
            ]
          },
          "metadata": {},
          "execution_count": 13
        }
      ]
    },
    {
      "cell_type": "code",
      "source": [
        "plt.plot(x, mfx, color='red')\n",
        "plt.ylabel('Membership Degree')\n",
        "plt.xlabel(\"X\")\n",
        "plt.grid(True)\n",
        "plt.show()"
      ],
      "metadata": {
        "colab": {
          "base_uri": "https://localhost:8080/",
          "height": 279
        },
        "id": "6fr6PAtQyM6D",
        "outputId": "907bae72-d147-4822-9713-e97e775e5f34"
      },
      "execution_count": null,
      "outputs": [
        {
          "output_type": "display_data",
          "data": {
            "image/png": "[encoded data removed]",
            "text/plain": [
              "<Figure size 432x288 with 1 Axes>"
            ]
          },
          "metadata": {
            "needs_background": "light"
          }
        }
      ]
    },
    {
      "cell_type": "markdown",
      "source": [
        "## S-function Fuzzy Membership Function"
      ],
      "metadata": {
        "id": "3lZJKvU4yXhb"
      }
    },
    {
      "cell_type": "code",
      "source": [
        "mfx = fuzz.smf(x, 4, 6)\n",
        "mfx"
      ],
      "metadata": {
        "colab": {
          "base_uri": "https://localhost:8080/"
        },
        "id": "Zqn5BsybyY3I",
        "outputId": "0ce9fc04-473f-419e-e484-d0cfb3f6fcf0"
      },
      "execution_count": null,
      "outputs": [
        {
          "output_type": "execute_result",
          "data": {
            "text/plain": [
              "array([0. , 0. , 0. , 0. , 0. , 0.5, 1. , 1. , 1. , 1. , 1. ])"
            ]
          },
          "metadata": {},
          "execution_count": 15
        }
      ]
    },
    {
      "cell_type": "code",
      "source": [
        "plt.plot(x, mfx, color='red')\n",
        "plt.ylabel('Membership Degree')\n",
        "plt.xlabel(\"X\")\n",
        "plt.grid(True)\n",
        "plt.show()"
      ],
      "metadata": {
        "colab": {
          "base_uri": "https://localhost:8080/",
          "height": 279
        },
        "id": "wy-D7QLwznfw",
        "outputId": "0a68a2e0-fd19-4881-880e-4b8234e0f3b0"
      },
      "execution_count": null,
      "outputs": [
        {
          "output_type": "display_data",
          "data": {
            "image/png": "[encoded data removed]",
            "text/plain": [
              "<Figure size 432x288 with 1 Axes>"
            ]
          },
          "metadata": {
            "needs_background": "light"
          }
        }
      ]
    },
    {
      "cell_type": "markdown",
      "source": [
        "## Z-Function Fuzzy Membership Function"
      ],
      "metadata": {
        "id": "zbVGTbkfztz_"
      }
    },
    {
      "cell_type": "code",
      "source": [
        "mfx = fuzz.zmf(x, 2, 8)\n",
        "mfx"
      ],
      "metadata": {
        "id": "bzBNZYuLzv6s",
        "colab": {
          "base_uri": "https://localhost:8080/"
        },
        "outputId": "dce9bd6e-68d4-4a92-f42f-23564be97d16"
      },
      "execution_count": null,
      "outputs": [
        {
          "output_type": "execute_result",
          "data": {
            "text/plain": [
              "array([1.        , 1.        , 1.        , 0.94444444, 0.77777778,\n",
              "       0.5       , 0.22222222, 0.05555556, 0.        , 0.        ,\n",
              "       0.        ])"
            ]
          },
          "metadata": {},
          "execution_count": 5
        }
      ]
    },
    {
      "cell_type": "code",
      "source": [
        "plt.plot(x, mfx, color='red')\n",
        "plt.ylabel('Membership Degree')\n",
        "plt.xlabel(\"X\")\n",
        "plt.grid(True)\n",
        "plt.show()"
      ],
      "metadata": {
        "colab": {
          "base_uri": "https://localhost:8080/",
          "height": 279
        },
        "id": "JyLm6SbVcsDd",
        "outputId": "4202c9f7-300f-4b76-d001-2ed6353acd4a"
      },
      "execution_count": null,
      "outputs": [
        {
          "output_type": "display_data",
          "data": {
            "image/png": "[encoded data removed]",
            "text/plain": [
              "<Figure size 432x288 with 1 Axes>"
            ]
          },
          "metadata": {
            "needs_background": "light"
          }
        }
      ]
    },
    {
      "cell_type": "markdown",
      "source": [
        "## Gaussian Fuzzy Membership Function"
      ],
      "metadata": {
        "id": "UwJQ6RPhcx0t"
      }
    },
    {
      "cell_type": "code",
      "source": [
        "x_mean = np.mean(x)\n",
        "x_sigma = np.std(x)"
      ],
      "metadata": {
        "id": "lExL5_c3cxZB"
      },
      "execution_count": null,
      "outputs": []
    },
    {
      "cell_type": "code",
      "source": [
        "mfx = fuzz.gaussmf(x, x_mean, x_sigma)\n",
        "mfx"
      ],
      "metadata": {
        "colab": {
          "base_uri": "https://localhost:8080/"
        },
        "id": "884-4SuMdH6V",
        "outputId": "83809bcd-5d31-4354-c4de-cf30cdaf1df3"
      },
      "execution_count": null,
      "outputs": [
        {
          "output_type": "execute_result",
          "data": {
            "text/plain": [
              "array([0.2865048 , 0.44932896, 0.63762815, 0.81873075, 0.95122942,\n",
              "       1.        , 0.95122942, 0.81873075, 0.63762815, 0.44932896,\n",
              "       0.2865048 ])"
            ]
          },
          "metadata": {},
          "execution_count": 8
        }
      ]
    },
    {
      "cell_type": "code",
      "source": [
        "plt.plot(x, mfx, color='red')\n",
        "plt.ylabel('Membership Degree')\n",
        "plt.xlabel(\"X\")\n",
        "plt.grid(True)\n",
        "plt.show()"
      ],
      "metadata": {
        "colab": {
          "base_uri": "https://localhost:8080/",
          "height": 279
        },
        "id": "Ad2Z3hnEdQXo",
        "outputId": "b8b2ff31-b8c7-4166-9a1b-073b4e973bd1"
      },
      "execution_count": null,
      "outputs": [
        {
          "output_type": "display_data",
          "data": {
            "image/png": "[encoded data removed]",
            "text/plain": [
              "<Figure size 432x288 with 1 Axes>"
            ]
          },
          "metadata": {
            "needs_background": "light"
          }
        }
      ]
    },
    {
      "cell_type": "markdown",
      "source": [
        "# Fuzzy Qperations"
      ],
      "metadata": {
        "id": "NmfwocVTdYUp"
      }
    },
    {
      "cell_type": "code",
      "source": [
        "X = np.array(['a', 'b', 'c', 'd', 'e'])\n",
        "mfx = np.array([0.1, 0.2, 0.6, 0.3, 0.9])\n",
        "\n",
        "Y = np.array(['a', 'b', 'c', 'd', 'e'])\n",
        "mfy = np.array([0.3, 0.4, 0.3, 0.6, 0.5])"
      ],
      "metadata": {
        "id": "K0cFImMcdguU"
      },
      "execution_count": null,
      "outputs": []
    },
    {
      "cell_type": "markdown",
      "source": [
        "## Fuzzy AND operator"
      ],
      "metadata": {
        "id": "Y4f6-eiPd0Is"
      }
    },
    {
      "cell_type": "markdown",
      "source": [
        "select min value "
      ],
      "metadata": {
        "id": "J-O081lJd0F4"
      }
    },
    {
      "cell_type": "code",
      "source": [
        "fuzz.fuzzy_and(X, mfx, Y, mfy)"
      ],
      "metadata": {
        "colab": {
          "base_uri": "https://localhost:8080/"
        },
        "id": "-qasap9Qd9j5",
        "outputId": "022f1b5d-863b-4904-d043-1b280ebe39a2"
      },
      "execution_count": null,
      "outputs": [
        {
          "output_type": "execute_result",
          "data": {
            "text/plain": [
              "(array(['a', 'b', 'c', 'd', 'e'], dtype='<U1'),\n",
              " array([0.1, 0.2, 0.3, 0.3, 0.5]))"
            ]
          },
          "metadata": {},
          "execution_count": 11
        }
      ]
    },
    {
      "cell_type": "markdown",
      "source": [
        "## Fuzzy OR operator"
      ],
      "metadata": {
        "id": "idyHmOI8eENA"
      }
    },
    {
      "cell_type": "markdown",
      "source": [
        "select max value"
      ],
      "metadata": {
        "id": "liP7JnM1eYac"
      }
    },
    {
      "cell_type": "code",
      "source": [
        "fuzz.fuzzy_or(X, mfx, Y, mfy)"
      ],
      "metadata": {
        "colab": {
          "base_uri": "https://localhost:8080/"
        },
        "id": "SwiGsYvfeNzM",
        "outputId": "d78bdf34-bbc3-4674-e691-157c7754603d"
      },
      "execution_count": null,
      "outputs": [
        {
          "output_type": "execute_result",
          "data": {
            "text/plain": [
              "(array(['a', 'b', 'c', 'd', 'e'], dtype='<U1'),\n",
              " array([0.3, 0.4, 0.6, 0.6, 0.9]))"
            ]
          },
          "metadata": {},
          "execution_count": 12
        }
      ]
    },
    {
      "cell_type": "markdown",
      "source": [
        "## Fuzzy NOT operator"
      ],
      "metadata": {
        "id": "OuyFRmEceTUl"
      }
    },
    {
      "cell_type": "markdown",
      "source": [
        "x = 1 - x"
      ],
      "metadata": {
        "id": "V92S_OqcebUI"
      }
    },
    {
      "cell_type": "code",
      "source": [
        "fuzz.fuzzy_not(mfx)"
      ],
      "metadata": {
        "colab": {
          "base_uri": "https://localhost:8080/"
        },
        "id": "pxeMLH03eUsw",
        "outputId": "c8614c90-2209-4acf-bbae-78233d176dbb"
      },
      "execution_count": null,
      "outputs": [
        {
          "output_type": "execute_result",
          "data": {
            "text/plain": [
              "array([0.9, 0.8, 0.4, 0.7, 0.1])"
            ]
          },
          "metadata": {},
          "execution_count": 13
        }
      ]
    },
    {
      "cell_type": "markdown",
      "source": [
        "# Fuzzy Relations"
      ],
      "metadata": {
        "id": "kK__gXIxeuaU"
      }
    },
    {
      "cell_type": "markdown",
      "source": [
        "## Cartesian product of two fuzzy membership vectors"
      ],
      "metadata": {
        "id": "89PJ41qHe3b5"
      }
    },
    {
      "cell_type": "code",
      "source": [
        "mfa = np.array([0,.6,1,.2])\n",
        "mfb = np.array([0,.4,1,.8,.3,0])\n",
        "\n",
        "p = fuzz.cartprod(mfa, mfb)\n",
        "print(p)"
      ],
      "metadata": {
        "colab": {
          "base_uri": "https://localhost:8080/"
        },
        "id": "gqfoiGPde11E",
        "outputId": "414b773d-5f15-431d-8484-1c8d9f2d76f1"
      },
      "execution_count": null,
      "outputs": [
        {
          "output_type": "stream",
          "name": "stdout",
          "text": [
            "[[0.  0.  0.  0.  0.  0. ]\n",
            " [0.  0.4 0.6 0.6 0.3 0. ]\n",
            " [0.  0.4 1.  0.8 0.3 0. ]\n",
            " [0.  0.2 0.2 0.2 0.2 0. ]]\n"
          ]
        }
      ]
    },
    {
      "cell_type": "code",
      "source": [
        "a_ = fuzz.fuzzy_not(mfa)\n",
        "_y = np.array([1,1,1,1,1,1])\n",
        "x = np.array([1,2,3,4])\n",
        "y = np.array([1,2,3,4,5,6])\n",
        "q = fuzz.cartprod(a_, _y)\n",
        "print(q)"
      ],
      "metadata": {
        "colab": {
          "base_uri": "https://localhost:8080/"
        },
        "id": "onQMlSXnIZi8",
        "outputId": "50054af3-833b-4789-9b94-2bcb59eb73ee"
      },
      "execution_count": null,
      "outputs": [
        {
          "output_type": "stream",
          "name": "stdout",
          "text": [
            "[[1.  1.  1.  1.  1.  1. ]\n",
            " [0.4 0.4 0.4 0.4 0.4 0.4]\n",
            " [0.  0.  0.  0.  0.  0. ]\n",
            " [0.8 0.8 0.8 0.8 0.8 0.8]]\n"
          ]
        }
      ]
    },
    {
      "cell_type": "code",
      "source": [
        "c = np.array([.3,.5,.6,.6,.5,.3])\n",
        "r = fuzz.cartprod(a_, c)\n",
        "print(r)"
      ],
      "metadata": {
        "colab": {
          "base_uri": "https://localhost:8080/"
        },
        "id": "Jl85CpcDIxJl",
        "outputId": "2288f70c-c3b8-40f0-f00e-298d09fec7f5"
      },
      "execution_count": null,
      "outputs": [
        {
          "output_type": "stream",
          "name": "stdout",
          "text": [
            "[[0.3 0.5 0.6 0.6 0.5 0.3]\n",
            " [0.3 0.4 0.4 0.4 0.4 0.3]\n",
            " [0.  0.  0.  0.  0.  0. ]\n",
            " [0.3 0.5 0.6 0.6 0.5 0.3]]\n"
          ]
        }
      ]
    },
    {
      "cell_type": "code",
      "source": [
        ""
      ],
      "metadata": {
        "id": "xsQIXpzoI_wo"
      },
      "execution_count": null,
      "outputs": []
    },
    {
      "cell_type": "markdown",
      "source": [
        "## Fuzzy Lambda Cuts"
      ],
      "metadata": {
        "id": "aGcLUkKBgXrn"
      }
    },
    {
      "cell_type": "code",
      "source": [
        "A = np.array([1, 2, 3, 4, 5, 6, 7])\n",
        "mfa = np.array([0.2, 0.5, 0.7, 1.0, 0.8, 0.4, 0.2])"
      ],
      "metadata": {
        "id": "Algou1FKgUih"
      },
      "execution_count": null,
      "outputs": []
    },
    {
      "cell_type": "code",
      "source": [
        "fuzz.lambda_cut(mfa, lcut = 0.4)"
      ],
      "metadata": {
        "colab": {
          "base_uri": "https://localhost:8080/"
        },
        "id": "hMTpQ2Nrge5v",
        "outputId": "dc4f2d0d-7cea-4e8b-f096-7efcc85f6a41"
      },
      "execution_count": null,
      "outputs": [
        {
          "output_type": "execute_result",
          "data": {
            "text/plain": [
              "array([0, 1, 1, 1, 1, 0, 0])"
            ]
          },
          "metadata": {},
          "execution_count": 17
        }
      ]
    },
    {
      "cell_type": "markdown",
      "source": [
        "# Example "
      ],
      "metadata": {
        "id": "nTmzRhxAg3Mr"
      }
    },
    {
      "cell_type": "code",
      "source": [
        "age = np.array([10,20,30,40,50,60,70,80,90,100])\n",
        "young_age = fuzz.zmf(age,20,30) \n",
        "middle_age = fuzz.trimf(age,[30,40,50])\n",
        "old_age = fuzz.smf(age,50,100) "
      ],
      "metadata": {
        "id": "qrhrldI6g5O_"
      },
      "execution_count": null,
      "outputs": []
    },
    {
      "cell_type": "code",
      "source": [
        "plt.plot(age, young_age, color='red')\n",
        "plt.ylabel('Membership Degree')\n",
        "plt.xlabel(\"Age\")\n",
        "plt.grid(True)\n",
        "plt.show()"
      ],
      "metadata": {
        "colab": {
          "base_uri": "https://localhost:8080/",
          "height": 279
        },
        "id": "NROwaMCihNAL",
        "outputId": "4d69801b-d761-4e4c-dbbb-1479fd155d72"
      },
      "execution_count": null,
      "outputs": [
        {
          "output_type": "display_data",
          "data": {
            "image/png": "[encoded data removed]",
            "text/plain": [
              "<Figure size 432x288 with 1 Axes>"
            ]
          },
          "metadata": {
            "needs_background": "light"
          }
        }
      ]
    },
    {
      "cell_type": "code",
      "source": [
        "plt.plot(age, middle_age, color='red')\n",
        "plt.ylabel('Membership Degree')\n",
        "plt.xlabel(\"Age\")\n",
        "plt.grid(True)\n",
        "plt.show()"
      ],
      "metadata": {
        "colab": {
          "base_uri": "https://localhost:8080/",
          "height": 279
        },
        "id": "hv8t7jl9ifL3",
        "outputId": "d5e99d4d-770c-41a9-a301-650f2f618099"
      },
      "execution_count": null,
      "outputs": [
        {
          "output_type": "display_data",
          "data": {
            "image/png": "[encoded data removed]",
            "text/plain": [
              "<Figure size 432x288 with 1 Axes>"
            ]
          },
          "metadata": {
            "needs_background": "light"
          }
        }
      ]
    },
    {
      "cell_type": "code",
      "source": [
        "plt.plot(age, old_age, color='red')\n",
        "plt.ylabel('Membership Degree')\n",
        "plt.xlabel(\"Age\")\n",
        "plt.grid(True)\n",
        "plt.show()"
      ],
      "metadata": {
        "colab": {
          "base_uri": "https://localhost:8080/",
          "height": 279
        },
        "id": "vtwpQImriuTn",
        "outputId": "381d4d25-75b1-4f69-b6f6-b222673856ff"
      },
      "execution_count": null,
      "outputs": [
        {
          "output_type": "display_data",
          "data": {
            "image/png": "[encoded data removed]",
            "text/plain": [
              "<Figure size 432x288 with 1 Axes>"
            ]
          },
          "metadata": {
            "needs_background": "light"
          }
        }
      ]
    },
    {
      "cell_type": "code",
      "source": [
        "fig,(ax0) = plt.subplots(nrows=1, figsize=(9,6))\n",
        "\n",
        "ax0.plot(age, young_age, 'b',linewidth =2 , label = 'Young')\n",
        "ax0.plot(age, middle_age, 'g',linewidth =2 , label = 'Mid-Aged')\n",
        "ax0.plot(age, old_age, 'r',linewidth =2 , label = 'Old')\n",
        "ax0.set_title('Age Groups')\n",
        "plt.grid(True)\n",
        "ax0.legend()\n"
      ],
      "metadata": {
        "colab": {
          "base_uri": "https://localhost:8080/",
          "height": 407
        },
        "id": "9puAtvuei9n_",
        "outputId": "6242a244-e0b7-4a83-99d9-677f1f410a79"
      },
      "execution_count": null,
      "outputs": [
        {
          "output_type": "execute_result",
          "data": {
            "text/plain": [
              "<matplotlib.legend.Legend at 0x7fe1ebedb090>"
            ]
          },
          "metadata": {},
          "execution_count": 31
        },
        {
          "output_type": "display_data",
          "data": {
            "image/png": "[encoded data removed]",
            "text/plain": [
              "<Figure size 648x432 with 1 Axes>"
            ]
          },
          "metadata": {
            "needs_background": "light"
          }
        }
      ]
    }
  ]
}